{
 "cells": [
  {
   "cell_type": "code",
   "execution_count": 1,
   "metadata": {
    "collapsed": true
   },
   "outputs": [],
   "source": [
    "import numpy as np \n",
    "import scipy as sp"
   ]
  },
  {
   "cell_type": "markdown",
   "metadata": {},
   "source": [
    "### Interest rates"
   ]
  },
  {
   "cell_type": "markdown",
   "metadata": {},
   "source": [
    "Ex 1:  John Doe intends to buy a house in Buffalo, New York, with a price tag of $240,000. He plans to pay 20% of the price of the house as a down payment and borrow the rest from M&T Bank. For a 30-year mortgage, the bank offers an annual rate of 4.25%. How much is his monthly mortgage payment? "
   ]
  },
  {
   "cell_type": "code",
   "execution_count": 5,
   "metadata": {},
   "outputs": [
    {
     "data": {
      "text/plain": [
       "-972.83579486570068"
      ]
     },
     "execution_count": 5,
     "metadata": {},
     "output_type": "execute_result"
    }
   ],
   "source": [
    "sp.pmt(0.045/12, 30*12, 240000*0.8)"
   ]
  },
  {
   "cell_type": "markdown",
   "metadata": {
    "collapsed": true
   },
   "source": [
    "Ex2: Assume that we bought a bond for \\$825 today. It has a maturity term of 5 years. The\n",
    "coupon rate is 3\\% and coupon payments are annual. If the face value is $1,000, what\n",
    "is the YTM?"
   ]
  },
  {
   "cell_type": "code",
   "execution_count": 2,
   "metadata": {},
   "outputs": [
    {
     "data": {
      "text/plain": [
       "0.073027413603042532"
      ]
     },
     "execution_count": 2,
     "metadata": {},
     "output_type": "execute_result"
    }
   ],
   "source": [
    "sp.rate(5, 1000*0.03, -825, 1000)"
   ]
  },
  {
   "cell_type": "markdown",
   "metadata": {},
   "source": [
    "### Simple interest rate versus compounding interest rate"
   ]
  },
  {
   "cell_type": "markdown",
   "metadata": {},
   "source": [
    "- The formula for payment of a simple interest rate is : \n",
    "**FV(simple interest)** = PV * (1+R*n)\n",
    "\n",
    "- The future value for coumpounded interest is: \n",
    "**FV(compounded interest)** = PV * (1+R)^n"
   ]
  },
  {
   "cell_type": "code",
   "execution_count": 10,
   "metadata": {},
   "outputs": [
    {
     "data": {
      "image/png": "[encoded data removed]",
      "text/plain": [
       "<matplotlib.figure.Figure at 0x7f715bb98c88>"
      ]
     },
     "metadata": {},
     "output_type": "display_data"
    }
   ],
   "source": [
    "import numpy as np\n",
    "import matplotlib.pyplot as plt\n",
    "pv = 1000\n",
    "r=0.08\n",
    "n = 10\n",
    "t = np.linspace(0, n, n)\n",
    "y1 = pv * (1 + r*t)\n",
    "y2 = pv * (1 + r)**t\n",
    "plt.plot(t, y1, 'g--', label=\"Simple interest\")\n",
    "plt.plot(t, y2, 'r-', label=\"Compound interest\")\n",
    "plt.legend(loc=2)\n",
    "plt.title(\"Simple vs compounded interest rates\")\n",
    "plt.xlabel(\"Number of year\")\n",
    "plt.ylabel(\"Values\")\n",
    "plt.xlim(0, 11)\n",
    "plt.ylim(800, 2200)\n",
    "plt.show()"
   ]
  },
  {
   "cell_type": "markdown",
   "metadata": {},
   "source": [
    "### Several Python functions related to interest conversion"
   ]
  },
  {
   "cell_type": "code",
   "execution_count": 11,
   "metadata": {
    "collapsed": true
   },
   "outputs": [],
   "source": [
    "def APR2Rm(APR1, m1, m2):\n",
    "    \"\"\"\n",
    "        Objective: convert on APR to another Rm \n",
    "            APR1: Annual Percentage Rate\n",
    "            m1: compounding frequency\n",
    "            m2: effective period rate with this compounding\n",
    "        Formula used: Rm = (1 + APR1/m1) ^ m1/m2 - 1 \n",
    "    \"\"\"\n",
    "    return (1 + APR1/ m1) ** (m1/m2) - 1\n",
    "\n",
    "def APR2APR(APR1, m1, m2):\n",
    "    \"\"\"\n",
    "        Objective: convert one APR to another APR\n",
    "            APR1: annual percentage rate\n",
    "             m1: compounding frequency\n",
    "             m2: effective period rate with this compounding\n",
    "        Formula used: APR2=m2* [(1+APR1/m1)**(m1/m2)-1]\n",
    "    \"\"\"\n",
    "    return m2*((1+APR1/m1)**(m1/m2) - 1)\n",
    "\n",
    "def APR2Rc(APR,m):\n",
    "    return m*log(1+APR/m)\n",
    "\n",
    "def Rc2Rm(Rc,m):\n",
    "    return exp(Rc/m)-1\n",
    "\n",
    "def Rc2APR(Rc,m):\n",
    "    return m*(exp(Rc/m)-1)"
   ]
  },
  {
   "cell_type": "markdown",
   "metadata": {},
   "source": [
    "### Python Program to estimate stock price based on an n-perioddd model"
   ]
  },
  {
   "cell_type": "markdown",
   "metadata": {},
   "source": [
    "For an n-period model, we have n + 1 future cash flows: **n dividends** plus **one selling price**"
   ]
  },
  {
   "cell_type": "markdown",
   "metadata": {},
   "source": [
    "``` Python\n",
    "P0 =  d1/(1 + Re) + d2/(1+Re)^2 + d3/(1+Re)^3 + ... + Pn/(1+Re)^n\n",
    "with\n",
    "Pn = dn+1/R-g (selling price)\n",
    "```"
   ]
  },
  {
   "cell_type": "code",
   "execution_count": 12,
   "metadata": {
    "collapsed": true
   },
   "outputs": [],
   "source": [
    "def pvValueNperiodModel(r,longTermGrowthRate,dividendNplus1):\n",
    "    \"\"\" Objective: estimate stock price based on an n-period model\n",
    "            r: discount rate\n",
    "            LongTermGrowhRate: long term dividend growth rate\n",
    "            dividendsNpus1 : a dividend vector n + 1\n",
    "            PV = d1/(1+R) + d2/(1+R)**2 + .... + dn/(1+R)**n + sellingPrice/(1+R)**n\n",
    "            sellingPrice= d(n+1)/(r-g)\n",
    "        where g is long term growth rate\n",
    "        Example #1: >>> r=0.182\n",
    "        >>> g=0.03\n",
    "        >>> d=[1.8,2.07,2.277,2.48193,2.68,2.7877]\n",
    "        >>>pvValueNperiodModel(r,g,d)\n",
    "         17.472364312825711\n",
    "    \"\"\"\n",
    "    import scipy as sp\n",
    "    d=dividendNplus1\n",
    "    n=len(d)-1\n",
    "    g=longTermGrowthRate\n",
    "    pv=sp.npv(r,d[:-1])*(1+r)\n",
    "    sellingPrice=d[n]/(r-g)\n",
    "    pv+=sp.pv(r,n,0,-sellingPrice)\n",
    "    return pv"
   ]
  },
  {
   "cell_type": "markdown",
   "metadata": {},
   "source": [
    "### Python program to estimate the duration of bond"
   ]
  },
  {
   "cell_type": "code",
   "execution_count": 15,
   "metadata": {},
   "outputs": [],
   "source": [
    "def durationBond(rate,couponRate,maturity):\n",
    "    \"\"\"Objective : estimte the durtion for a given bond\n",
    "         rate : discount rate\n",
    "        couponRate: coupon rate\n",
    "         maturity : number of years\n",
    "     Example 1: \n",
    "        >>>discountRate=0.1\n",
    "        >>>couponRate=0.04\n",
    "        >>> n=4\n",
    "        >>>durationBond(rate,couponRate,n)\n",
    "         3.5616941835365492\n",
    "     Example #2\n",
    "        >>>durationBond(0.1,0.04,4)\n",
    "         3.7465335177625576\n",
    "    \"\"\"\n",
    "    import scipy as sp\n",
    "    d=0\n",
    "    n=maturity\n",
    "    for i in sp.arange(n):\n",
    "        d+=(i+1)*sp.pv(rate,i+1,0,-couponRate)\n",
    "        d+=n*sp.pv(rate,nper,0,-1)\n",
    "    return d/sp.pv(rate,n,-couponRate,-1)"
   ]
  },
  {
   "cell_type": "code",
   "execution_count": null,
   "metadata": {
    "collapsed": true
   },
   "outputs": [],
   "source": []
  }
 ],
 "metadata": {
  "kernelspec": {
   "display_name": "Python 3",
   "language": "python",
   "name": "python3"
  },
  "language_info": {
   "codemirror_mode": {
    "name": "ipython",
    "version": 3
   },
   "file_extension": ".py",
   "mimetype": "text/x-python",
   "name": "python",
   "nbconvert_exporter": "python",
   "pygments_lexer": "ipython3",
   "version": "3.6.3"
  }
 },
 "nbformat": 4,
 "nbformat_minor": 2
}
